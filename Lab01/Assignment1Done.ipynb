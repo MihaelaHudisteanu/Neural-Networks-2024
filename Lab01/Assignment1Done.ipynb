{
  "cells": [
    {
      "cell_type": "markdown",
      "metadata": {
        "id": "-qlIx5uHGTuZ"
      },
      "source": [
        "<a target=\"_blank\" href=\"https://colab.research.google.com/github/Tensor-Reloaded/Neural-Networks-Template-2024/blob/main/Lab01/Assignment1.ipynb\">\n",
        "  <img src=\"https://colab.research.google.com/assets/colab-badge.svg\" alt=\"Open In Colab\"/>\n",
        "</a>"
      ]
    },
    {
      "cell_type": "markdown",
      "metadata": {
        "id": "DLGXbEPpGTue"
      },
      "source": [
        "# **Assignment 1 (10 points)**"
      ]
    },
    {
      "cell_type": "markdown",
      "metadata": {
        "vscode": {
          "languageId": "plaintext"
        },
        "id": "49eOkzorGTuf"
      },
      "source": [
        "## **Solving a linear system in python**"
      ]
    },
    {
      "cell_type": "markdown",
      "metadata": {
        "vscode": {
          "languageId": "plaintext"
        },
        "id": "vw17UcewGTug"
      },
      "source": [
        "In this homework, you will familiarize yourself with key linear algebra con-\n",
        "cepts and Python programming by solving a system of linear equations. You\n",
        "will explore multiple methods for solving such systems, including Cramer’s rule\n",
        "and matrix inversion. By the end of this assignment, you will have a good un-\n",
        "derstanding of how to represent and manipulate matrices and vectors in Python."
      ]
    },
    {
      "cell_type": "markdown",
      "metadata": {
        "vscode": {
          "languageId": "plaintext"
        },
        "id": "2rQkMQ3eGTuh"
      },
      "source": [
        "We begin with the following system of 3 linear equations with 3 unknowns:\n",
        "$$ 2x + 3y - z = 5 $$\n",
        "$$ x - y + 4z = 6 $$\n",
        "$$ 3x + y + 2z = 7 $$\n",
        "\n",
        "This system can be vectorized in the following form:\n",
        "$$ A \\cdot X = B $$\n",
        "where:\n",
        "$$\n",
        "A = \\begin{bmatrix}\n",
        "2 & 3 & -1 \\\\\n",
        "1 & -1 & 4 \\\\\n",
        "3 & 1 & 2\n",
        "\\end{bmatrix}, \\quad\n",
        "X = \\begin{bmatrix}\n",
        "x \\\\\n",
        "y \\\\\n",
        "z\n",
        "\\end{bmatrix}, \\quad\n",
        "B = \\begin{bmatrix}\n",
        "5 \\\\\n",
        "6 \\\\\n",
        "7\n",
        "\\end{bmatrix}\n",
        "$$\n",
        "\n",
        "**Considerations**\n",
        "- do not use any linear algebra framework such as $numpy$\n",
        "- use python lists as data structures for matrices and vectors\n",
        "- experiment with other values for the coefficients and free terms"
      ]
    },
    {
      "cell_type": "markdown",
      "metadata": {
        "vscode": {
          "languageId": "plaintext"
        },
        "id": "6H2-HM17GTui"
      },
      "source": [
        "### **1. Parsing the System of Equations (1 point)**"
      ]
    },
    {
      "cell_type": "markdown",
      "metadata": {
        "vscode": {
          "languageId": "plaintext"
        },
        "id": "kggSUUO4GTui"
      },
      "source": [
        "The first task is to implement a Python script that reads a system of linear equations from a text file and parses it into a matrix $A$ and a vector $B$. You will use the input format described below to extract the coefficients for $A$ and $B$.\n",
        "\n",
        "**Input File Format**\n",
        "```text\n",
        "2x + 3y - z = 5\n",
        "x - y + 4z = 6\n",
        "3x + y + 2z = 7\n",
        "```\n",
        "\n",
        "Note that the coefficients are always in the order x, y and z and the terms are always space separated"
      ]
    },
    {
      "cell_type": "code",
      "execution_count": 14,
      "metadata": {
        "colab": {
          "base_uri": "https://localhost:8080/"
        },
        "id": "YDJ2utlCGTuj",
        "outputId": "a7d5cdd4-be83-4e5e-a522-406807efff27"
      },
      "outputs": [
        {
          "output_type": "stream",
          "name": "stdout",
          "text": [
            "A=[[2.0, 3.0, -1.0], [1.0, -1.0, 4.0], [3.0, 1.0, 2.0]] B=[5.0, 6.0, 7.0]\n"
          ]
        }
      ],
      "source": [
        "import pathlib\n",
        "#from google.colab import files\n",
        "#uploaded = files.upload()\n",
        "\n",
        "\n",
        "def load_system(path: pathlib.Path) -> tuple[list[list[float]], list[float]]:\n",
        "  A = []\n",
        "  B = []\n",
        "  with path.open('r') as file:\n",
        "    for line in file:\n",
        "      left_side, right_side = line.split('=')\n",
        "      left_side = left_side.replace(' ','')\n",
        "      a = []\n",
        "      sign = 1\n",
        "      coef_chr = ''\n",
        "      for chr in left_side:\n",
        "        if chr.isdigit() or chr == '.':\n",
        "          coef_chr = coef_chr + chr\n",
        "        elif chr == '+':\n",
        "          sign = 1\n",
        "        elif chr == '-':\n",
        "          sign = -1\n",
        "        else:\n",
        "          if coef_chr == '':\n",
        "            coef_chr = '1'\n",
        "          coef = float(coef_chr)\n",
        "          if sign == -1:\n",
        "            coef = -coef\n",
        "          a.append(coef)\n",
        "          coef_chr = ''\n",
        "\n",
        "      A.append(a)\n",
        "\n",
        "      B.append(float(right_side))\n",
        "    return A, B\n",
        "\n",
        "A, B = load_system(pathlib.Path(\"system.txt\"))\n",
        "print(f\"{A=} {B=}\")"
      ]
    },
    {
      "cell_type": "markdown",
      "metadata": {
        "vscode": {
          "languageId": "plaintext"
        },
        "id": "DrCiipQkGTum"
      },
      "source": [
        "### **2. Matrix and Vector Operations (5 points)**"
      ]
    },
    {
      "cell_type": "markdown",
      "metadata": {
        "vscode": {
          "languageId": "plaintext"
        },
        "id": "xlbtVTgIGTum"
      },
      "source": [
        "Once you have successfully parsed the matrix and vector, complete the following exercises to manipulate and understand basic matrix and vector operations. Write Python functions for each of these tasks:"
      ]
    },
    {
      "cell_type": "markdown",
      "metadata": {
        "vscode": {
          "languageId": "plaintext"
        },
        "id": "ZtCyguE0GTun"
      },
      "source": [
        "#### 2.1. Determinant"
      ]
    },
    {
      "cell_type": "markdown",
      "metadata": {
        "vscode": {
          "languageId": "plaintext"
        },
        "id": "7LyRdTBNGTun"
      },
      "source": [
        "Write a function to compute the determinant of matrix $A$. Recall one of the formulae for the determinant of a $3x3$ matrix:\n",
        "$$ \\text{det}(A) = a_{11}(a_{22}a_{33} - a_{23}a_{32}) - a_{12}(a_{21}a_{33} - a_{23}a_{31}) + a_{13}(a_{21}a_{32} - a_{22}a_{31}) $$"
      ]
    },
    {
      "cell_type": "code",
      "execution_count": 4,
      "metadata": {
        "colab": {
          "base_uri": "https://localhost:8080/"
        },
        "id": "35KkXZkfGTun",
        "outputId": "c437db1d-3404-46dd-8fbc-31612a1cd8f9"
      },
      "outputs": [
        {
          "output_type": "stream",
          "name": "stdout",
          "text": [
            "determinant(A)=14.0\n"
          ]
        }
      ],
      "source": [
        "def determinant(matrix: list[list[float]]) -> float:\n",
        "  a11, a12, a13 = matrix[0]\n",
        "  a21, a22, a23 = matrix[1]\n",
        "  a31, a32, a33 = matrix[2]\n",
        "\n",
        "  det = (a11*(a22*a33 - a23*a32)\n",
        "          - a12*(a21*a33 - a23*a31)\n",
        "          + a13*(a21*a32 - a22*a31))\n",
        "\n",
        "  return det\n",
        "\n",
        "print(f\"{determinant(A)=}\")"
      ]
    },
    {
      "cell_type": "markdown",
      "metadata": {
        "id": "OJ3t75ajGTun"
      },
      "source": [
        "#### 2.2. Trace"
      ]
    },
    {
      "cell_type": "markdown",
      "metadata": {
        "id": "Wj-X1O1cGTun"
      },
      "source": [
        "Compute the sum of the elements along the main diagonal of matrix $A$. For a matrix $A$, this is:\n",
        "$$ \\text{Trace}(A) = a_{11} + a_{22} + a_{33} $$"
      ]
    },
    {
      "cell_type": "code",
      "execution_count": 6,
      "metadata": {
        "colab": {
          "base_uri": "https://localhost:8080/"
        },
        "id": "itelGu46GTuo",
        "outputId": "c33e5133-b6e2-429b-90d2-77a54384554e"
      },
      "outputs": [
        {
          "output_type": "stream",
          "name": "stdout",
          "text": [
            "trace(A)=3.0\n"
          ]
        }
      ],
      "source": [
        "def trace(matrix: list[list[float]]) -> float:\n",
        "  result = 0\n",
        "  for i in range(len(matrix)):\n",
        "    result += matrix[i][i]\n",
        "  return result\n",
        "\n",
        "print(f\"{trace(A)=}\")"
      ]
    },
    {
      "cell_type": "markdown",
      "metadata": {
        "id": "ovp5iIq0GTuo"
      },
      "source": [
        "#### 2.3. Vector norm"
      ]
    },
    {
      "cell_type": "markdown",
      "metadata": {
        "id": "lS4y5ijPGTuo"
      },
      "source": [
        "Compute the Euclidean norm of vector $B$, which is:\n",
        "$$ ||B|| = \\sqrt{b_1^2 + b_2^2 + b_3^2} $$"
      ]
    },
    {
      "cell_type": "code",
      "execution_count": 7,
      "metadata": {
        "colab": {
          "base_uri": "https://localhost:8080/"
        },
        "id": "Gotf8vamGTuo",
        "outputId": "ee5e4ce0-5246-4ee8-9a54-47e0e137cb6a"
      },
      "outputs": [
        {
          "output_type": "stream",
          "name": "stdout",
          "text": [
            "norm(B)=10.488088481701515\n"
          ]
        }
      ],
      "source": [
        "def norm(vector: list[float]) -> float:\n",
        "  result = 0\n",
        "  for i in range(len(vector)):\n",
        "    result += vector[i]**2\n",
        "\n",
        "  result = result**0.5\n",
        "  return result\n",
        "\n",
        "print(f\"{norm(B)=}\")"
      ]
    },
    {
      "cell_type": "markdown",
      "metadata": {
        "id": "EdHfGDskGTuo"
      },
      "source": [
        "#### 2.4. Transpose of matrix"
      ]
    },
    {
      "cell_type": "markdown",
      "metadata": {
        "id": "a2ibtUm8GTup"
      },
      "source": [
        "Write a function to compute the transpose of matrix $A$. The transpose of a matrix $A$ is obtained by swapping its rows and columns.\n",
        "    "
      ]
    },
    {
      "cell_type": "code",
      "execution_count": 8,
      "metadata": {
        "colab": {
          "base_uri": "https://localhost:8080/"
        },
        "id": "qIIE11NnGTup",
        "outputId": "949076b1-45b1-4389-ce3c-13db97821e5e"
      },
      "outputs": [
        {
          "output_type": "stream",
          "name": "stdout",
          "text": [
            "transpose(A)=[[2.0, 1.0, 3.0], [3.0, -1.0, 1.0], [-1.0, 4.0, 2.0]]\n"
          ]
        }
      ],
      "source": [
        "def transpose(matrix: list[list[float]]) -> list[list[float]]:\n",
        "  transposed_matrix = []\n",
        "\n",
        "  for _ in range(len(matrix[0])):\n",
        "    transposed_matrix.append([0.0]*len(matrix))\n",
        "\n",
        "  for i in range(len(matrix)):\n",
        "    for j in range(len(matrix[0])):\n",
        "      transposed_matrix[j][i] = matrix[i][j]\n",
        "\n",
        "  return transposed_matrix\n",
        "  #sau\n",
        "  #return [[matrix[j][i] for j in range(len(matrix))] for i in range(len(matrix[0]))]\n",
        "\n",
        "print(f\"{transpose(A)=}\")"
      ]
    },
    {
      "cell_type": "markdown",
      "metadata": {
        "id": "fv1FfPH6GTup"
      },
      "source": [
        "#### 2.5. Matrix-vector multiplication"
      ]
    },
    {
      "cell_type": "markdown",
      "metadata": {
        "id": "143oD2ODGTup"
      },
      "source": [
        "Write a function that multiplies matrix $A$ with vector $B$."
      ]
    },
    {
      "cell_type": "code",
      "execution_count": 9,
      "metadata": {
        "colab": {
          "base_uri": "https://localhost:8080/"
        },
        "id": "yDLRGzwZGTup",
        "outputId": "49249a76-545c-4399-cd1a-b643503c10e5"
      },
      "outputs": [
        {
          "output_type": "stream",
          "name": "stdout",
          "text": [
            "multiply(A, B)=[21.0, 27.0, 35.0]\n"
          ]
        }
      ],
      "source": [
        "def multiply(matrix: list[list[float]], vector: list[float]) -> list[float]:\n",
        "  result = [0.0]*len(matrix)\n",
        "\n",
        "  for i in range(len(matrix)):\n",
        "    for j in range(len(vector)):\n",
        "      result[i] += matrix[i][j]*vector[j]\n",
        "\n",
        "  return result\n",
        "\n",
        "print(f\"{multiply(A, B)=}\")"
      ]
    },
    {
      "cell_type": "markdown",
      "metadata": {
        "id": "gaj6iHqxGTuq"
      },
      "source": [
        "### **3. Solving using Cramer's Rule (1 point)**"
      ]
    },
    {
      "cell_type": "markdown",
      "metadata": {
        "id": "v2GOaCrXGTuq"
      },
      "source": [
        "Now that you have explored basic matrix operations, solve the system of linear equations using Cramer's rule.\n",
        "\n",
        "**Cramer's Rule:**\n",
        "\n",
        "Cramer's rule allows you to solve for each unknown $x$, $y$, and $z$ using determinants. For example:\n",
        "$$ x = \\frac{\\text{det}(A_x)}{\\text{det}(A)}, \\quad y = \\frac{\\text{det}(A_y)}{\\text{det}(A)}, \\quad z = \\frac{\\text{det}(A_z)}{\\text{det}(A)} $$\n",
        "where $A_x$, $A_y$, and $A_z$ are matrices formed by replacing the respective column of matrix $A$ with vector $B$."
      ]
    },
    {
      "cell_type": "code",
      "execution_count": 10,
      "metadata": {
        "colab": {
          "base_uri": "https://localhost:8080/"
        },
        "id": "G6x5NUsKGTuq",
        "outputId": "b8fd8ee5-1f2b-479c-f8d7-03002f25e778"
      },
      "outputs": [
        {
          "output_type": "stream",
          "name": "stdout",
          "text": [
            "solve_cramer(A, B)=[0.35714285714285715, 2.0714285714285716, 1.9285714285714286]\n"
          ]
        }
      ],
      "source": [
        "def solve_cramer(matrix: list[list[float]], vector: list[float]) -> list[float]:\n",
        "  solution = []\n",
        "  det = determinant(matrix)\n",
        "  for param in range(len(matrix)):\n",
        "    matrix_param = [row[:] for row in matrix] #deep copy\n",
        "\n",
        "    for j in range(len(vector)):\n",
        "      matrix_param[j][param] = vector[j]\n",
        "\n",
        "    param_value = determinant(matrix_param)/det\n",
        "    solution.append(param_value)\n",
        "\n",
        "  return solution\n",
        "\n",
        "print(f\"{solve_cramer(A, B)=}\")"
      ]
    },
    {
      "cell_type": "markdown",
      "metadata": {
        "id": "uphkYI0-GTur"
      },
      "source": [
        "### **4. Solving using Inversion (3 points)**"
      ]
    },
    {
      "cell_type": "markdown",
      "metadata": {
        "id": "2iRPXN9CGTur"
      },
      "source": [
        "Finally, solve the system by computing the inverse of matrix $A$ and multiplying it by vector $B$.\n",
        "$$ A \\cdot X = B \\rightarrow X = A^{-1} \\cdot B $$\n",
        "**Adjugate Method for Matrix Inversion:**\n",
        "\n",
        "To find the inverse of matrix $ A $, you can use the adjugate method:\n",
        "$$ A^{-1} = \\frac{1}{\\text{det}(A)} \\times \\text{adj}(A) $$\n",
        "where $\\text{adj}(A)$ is the adjugate (or adjoint) matrix, which is the transpose of the cofactor matrix of $ A $.\n",
        "\n",
        "**Cofactor Matrix:**\n",
        "\n",
        "The cofactor matrix is a matrix where each element is replaced by its cofactor. The cofactor of an element $a_{ij}$ is given by:\n",
        "$$ (-1)^{i+j} \\times \\text{det}(M_{ij}) $$\n",
        "where $M_{ij}$ is the minor of element $a_{ij}$, which is the matrix obtained by removing the $i$-th row and $j$-th column from matrix $A$."
      ]
    },
    {
      "cell_type": "code",
      "execution_count": 11,
      "metadata": {
        "colab": {
          "base_uri": "https://localhost:8080/"
        },
        "id": "RHd7GGv3GTur",
        "outputId": "36691e7a-0e22-4208-bf6f-9dc8981daf0c"
      },
      "outputs": [
        {
          "output_type": "stream",
          "name": "stdout",
          "text": [
            "solve(A, B)=[0.35714285714285765, 2.071428571428571, 1.9285714285714288]\n"
          ]
        }
      ],
      "source": [
        "def minor(matrix: list[list[float]], i: int, j: int) -> list[list[float]]:\n",
        "  minor_matrix = []\n",
        "\n",
        "  for row in range(len(matrix)):\n",
        "    if row == i:\n",
        "      continue\n",
        "\n",
        "    minor_row = []\n",
        "    for col in range(len(matrix[0])):\n",
        "      if col == j:\n",
        "        continue\n",
        "      minor_row.append(matrix[row][col])\n",
        "\n",
        "    minor_matrix.append(minor_row)\n",
        "\n",
        "  return minor_matrix\n",
        "\n",
        "def determinant_laplace(matrix: list[list[float]]) -> float:\n",
        "  if len(matrix) == 1:\n",
        "    return matrix[0][0]\n",
        "\n",
        "  if len(matrix) == 2:\n",
        "    return matrix[0][0]*matrix[1][1] - matrix[0][1]*matrix[1][0]\n",
        "\n",
        "  det = 0.0\n",
        "  for j in range(len(matrix)):\n",
        "    minor_matrix = minor(matrix, 0, j)\n",
        "    det += ((-1)**j) * matrix[0][j] * determinant_laplace(minor_matrix)\n",
        "\n",
        "  return det\n",
        "\n",
        "\n",
        "def cofactor(matrix: list[list[float]]) -> list[list[float]]:\n",
        "  cofactor_matrix = []\n",
        "  for i in range(len(matrix)):\n",
        "    cofactor_row = []\n",
        "    for j in range(len(matrix[0])):\n",
        "      cofactor_row.append(((-1)**(i + j)) * determinant_laplace(minor(matrix, i, j)))\n",
        "\n",
        "    cofactor_matrix.append(cofactor_row)\n",
        "\n",
        "  return cofactor_matrix\n",
        "\n",
        "def adjoint(matrix: list[list[float]]) -> list[list[float]]:\n",
        "  adjoint_matrix = transpose(cofactor(matrix))\n",
        "  return adjoint_matrix\n",
        "\n",
        "def solve(matrix: list[list[float]], vector: list[float]) -> list[float]:\n",
        "  solution = []\n",
        "  det = determinant(matrix)\n",
        "  inverse_matrix = adjoint(matrix)\n",
        "\n",
        "  for i in range(len(matrix)):\n",
        "    for j in range(len(matrix[0])):\n",
        "      inverse_matrix[i][j] /= det\n",
        "\n",
        "  solution = multiply(inverse_matrix, vector)\n",
        "  return solution\n",
        "\n",
        "\n",
        "print(f\"{solve(A, B)=}\")"
      ]
    },
    {
      "cell_type": "markdown",
      "source": [
        "**Bonus**: Can you see any similarities between the cofactor and the provided\n",
        "formula for the determinant of the matrix A?"
      ],
      "metadata": {
        "id": "fm9-A0XIlJRG"
      }
    },
    {
      "cell_type": "markdown",
      "source": [
        "Yes, ilustrated by the Laplace formula. In particular, for the 3x3 matrix we have:\n",
        "\n",
        "det(A) = a11(a22a33−a23a32)−a12(a21a33−a23a31)+a13(a21a32−a22a31) = a11det(M11) - a12det(M12) + a13det(M13) = (-1)^(1+1)a11det(M11) + (-1)^(1+2)a12det(M12) + (-1)^(1+3)a13det(M13)\n",
        "\n",
        "\n",
        "Function for determinant using Laplace formula:\n",
        "\n",
        "\n",
        "```\n",
        "def determinant_laplace(matrix: list[list[float]]) -> float:\n",
        "  if len(matrix) == 1:\n",
        "    return matrix[0][0]\n",
        "\n",
        "  if len(matrix) == 2:\n",
        "    return matrix[0][0]*matrix[1][1] - matrix[0][1]*matrix[1][0]\n",
        "\n",
        "  det = 0.0\n",
        "  for j in range(len(matrix)):\n",
        "    minor_matrix = minor(matrix, 0, j)\n",
        "    det += ((-1)**j) * matrix[0][j] * determinant_laplace(minor_matrix)\n",
        "\n",
        "  return det\n",
        "```\n",
        "\n",
        "\n",
        "\n"
      ],
      "metadata": {
        "id": "I0bAFoQdlV3u"
      }
    }
  ],
  "metadata": {
    "kernelspec": {
      "display_name": "Python 3",
      "language": "python",
      "name": "python3"
    },
    "language_info": {
      "codemirror_mode": {
        "name": "ipython",
        "version": 3
      },
      "file_extension": ".py",
      "mimetype": "text/x-python",
      "name": "python",
      "nbconvert_exporter": "python",
      "pygments_lexer": "ipython3",
      "version": "3.11.2"
    },
    "colab": {
      "provenance": []
    }
  },
  "nbformat": 4,
  "nbformat_minor": 0
}